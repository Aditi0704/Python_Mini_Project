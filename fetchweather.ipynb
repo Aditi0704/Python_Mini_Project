{
 "cells": [
  {
   "cell_type": "code",
   "execution_count": 1,
   "id": "3e35794f",
   "metadata": {},
   "outputs": [
    {
     "name": "stdout",
     "output_type": "stream",
     "text": [
      "Enter city name : Indore\n",
      " Temperature (in kelvin unit) = 302.25\n",
      " Atmospheric pressure (in hPa unit) = 1011\n",
      " Humidity (in percentage) = 20\n",
      " Description = few clouds\n"
     ]
    }
   ],
   "source": [
    "# Python program to find current\n",
    "# weather details of any city\n",
    "# using openweathermap api\n",
    " \n",
    "# import required modules\n",
    "import requests, json\n",
    " \n",
    "# Enter your API key here\n",
    "api_key = \"9b19818ab965ecba192ed18bb342878c\"\n",
    " \n",
    "# base_url variable to store url\n",
    "base_url = \"http://api.openweathermap.org/data/2.5/weather?\"\n",
    " \n",
    "# Give city name\n",
    "city_name = input(\"Enter city name : \")\n",
    " \n",
    "# complete_url variable to store\n",
    "# complete url address\n",
    "complete_url = base_url + \"appid=\" + api_key + \"&q=\" + city_name\n",
    " \n",
    "# get method of requests module\n",
    "# return response object\n",
    "response = requests.get(complete_url)\n",
    " \n",
    "# json method of response object\n",
    "# convert json format data into\n",
    "# python format data\n",
    "x = response.json()\n",
    " \n",
    "# Now x contains list of nested dictionaries\n",
    "# Check the value of \"cod\" key is equal to\n",
    "# \"404\", means city is found otherwise,\n",
    "# city is not found\n",
    "if x[\"cod\"] != \"404\":\n",
    " \n",
    "    # store the value of \"main\"\n",
    "    # key in variable y\n",
    "    y = x[\"main\"]\n",
    " \n",
    "    # store the value corresponding\n",
    "    # to the \"temp\" key of y\n",
    "    current_temperature = y[\"temp\"]\n",
    " \n",
    "    # store the value corresponding\n",
    "    # to the \"pressure\" key of y\n",
    "    current_pressure = y[\"pressure\"]\n",
    " \n",
    "    # store the value corresponding\n",
    "    # to the \"humidity\" key of y\n",
    "    current_humidity = y[\"humidity\"]\n",
    " \n",
    "    # store the value of \"weather\"\n",
    "    # key in variable z\n",
    "    z = x[\"weather\"]\n",
    " \n",
    "    # store the value corresponding\n",
    "    # to the \"description\" key at\n",
    "    # the 0th index of z\n",
    "    weather_description = z[0][\"description\"]\n",
    " \n",
    "    # print following values\n",
    "    print(\" Temperature (in kelvin unit) = \" +\n",
    "                    str(current_temperature) +\n",
    "          \"\\n Atmospheric pressure (in hPa unit) = \" +\n",
    "                    str(current_pressure) +\n",
    "          \"\\n Humidity (in percentage) = \" +\n",
    "                    str(current_humidity) +\n",
    "          \"\\n Description = \" +\n",
    "                    str(weather_description))\n",
    " \n",
    "else:\n",
    "    print(\" City Not Found \")"
   ]
  },
  {
   "cell_type": "code",
   "execution_count": null,
   "id": "83f46848",
   "metadata": {},
   "outputs": [],
   "source": []
  }
 ],
 "metadata": {
  "kernelspec": {
   "display_name": "Python 3 (ipykernel)",
   "language": "python",
   "name": "python3"
  },
  "language_info": {
   "codemirror_mode": {
    "name": "ipython",
    "version": 3
   },
   "file_extension": ".py",
   "mimetype": "text/x-python",
   "name": "python",
   "nbconvert_exporter": "python",
   "pygments_lexer": "ipython3",
   "version": "3.9.7"
  }
 },
 "nbformat": 4,
 "nbformat_minor": 5
}
